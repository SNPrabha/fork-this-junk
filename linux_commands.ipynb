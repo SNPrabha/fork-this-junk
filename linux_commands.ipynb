!ls

!cat /proc/cpuinfo

!cat /proc/meminfo

